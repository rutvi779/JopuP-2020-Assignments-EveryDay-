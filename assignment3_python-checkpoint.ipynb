{
 "cells": [
  {
   "cell_type": "markdown",
   "metadata": {},
   "source": [
    "## Module 1: OOP"
   ]
  },
  {
   "cell_type": "code",
   "execution_count": 48,
   "metadata": {},
   "outputs": [],
   "source": [
    "# Problem: Design classes where one is parent & other is child. let child call the parent method. [2 Points]\n",
    "class Parent:\n",
    "    def run_parent_method(self): \n",
    "       \n",
    "        return \"This is parent method\"\n",
    "class Child(Parent):\n",
    "    def run_child_method(self):\n",
    "        \n",
    "      \n",
    "        return \"This is child method\"\n",
    "  \n",
    "assert Child().run_parent_method() == \"This is parent method\"\n",
    "assert Child().run_child_method() == \"This is child method\""
   ]
  },
  {
   "cell_type": "code",
   "execution_count": 49,
   "metadata": {},
   "outputs": [],
   "source": [
    "# Problem: add private varible for unique id that stores genearted uuid.\n",
    "#          write mechanism to access that variable for class instance object.\n",
    "#          you can use `str(uuid.uuid4())` to generate uuid    [4 Points]\n",
    "import uuid\n",
    "id=uuid.uuid4()\n",
    "class Employee:\n",
    "    \n",
    "    def __init__(self, name, birth_year,id):\n",
    "        #TODo: add private varible\n",
    "        self.name = name\n",
    "        self.birth_year = birth_year\n",
    "        self.id=id\n",
    "    # TODO:add mechanisham to access it\n",
    "\n",
    "emp = Employee(\"Foo\", 1998,uuid.uuid4())\n",
    "generated_uuid = id # replace NoImplemented with provate variable\n",
    "#assert isinstance(generated_uuid, str)"
   ]
  },
  {
   "cell_type": "markdown",
   "metadata": {},
   "source": [
    "## Module 2: Iterables"
   ]
  },
  {
   "cell_type": "code",
   "execution_count": null,
   "metadata": {},
   "outputs": [],
   "source": [
    "# Problem: Implement __iter__() and next() method for following class [6 Points]\n",
    "class SquareIterator:\n",
    "    \n",
    "    def __init__(self, limit=9):\n",
    "        self.limit = limit\n",
    "        self.n = 0\n",
    "    \n",
    "    def __iter__(self):\n",
    "        #TODO: implement this\n",
    "        self.n = 0\n",
    "        return self\n",
    "    # for python3 compatibility\n",
    "    def __next__(self):\n",
    "        y = self.n\n",
    "        self.n += 1\n",
    "        return y\n",
    "    \n",
    "    def next(self):\n",
    "        #TODO: implement this\n",
    "        return y\n",
    "classinstance = SquareIterator()\n",
    "element = iter(classinstance)\n",
    "sq_itr1 = SquareIterator(5)\n",
    "assert list(sq_itr1) == [0, 1, 4, 9, 16]\n",
    "\n",
    "sq_itr1 = SquareIterator(101)\n",
    "assert sum(sq_itr1) == 338350"
   ]
  },
  {
   "cell_type": "code",
   "execution_count": null,
   "metadata": {},
   "outputs": [],
   "source": [
    "# Problem: Create student objects with provided list of name and enrollment id using Zip [4 Points]\n",
    "class Student:\n",
    "    \n",
    "    def __init__(self, name,roll):\n",
    "        # TODO: implement this\n",
    "        self.name=name\n",
    "        self.roll=roll\n",
    "    def _zipped(self):\n",
    "        return zip(self.name,self.roll)\n",
    "names = [\"Rahul\", \"Shyam\", \"Krupa\", \"Aakash\"]\n",
    "enrollments = [1122, 2345, 1456, 2295]\n",
    "\n",
    "students = []\n",
    "#TODO: implement loop here\n",
    "for i in range (0,4):\n",
    "    students.append(Student(names[i],enrollments[i]))\n",
    "\n",
    "assert len(students) == 4\n",
    "assert (students[0].name, students[0].roll) == (\"Rahul\", 1122)"
   ]
  },
  {
   "cell_type": "markdown",
   "metadata": {},
   "source": [
    "## Module 3: Data Processing "
   ]
  },
  {
   "cell_type": "code",
   "execution_count": null,
   "metadata": {},
   "outputs": [],
   "source": [
    "! pip3 install numpy pandas"
   ]
  },
  {
   "cell_type": "code",
   "execution_count": null,
   "metadata": {},
   "outputs": [],
   "source": [
    "import numpy as np\n",
    "np.random.seed(40)"
   ]
  },
  {
   "cell_type": "code",
   "execution_count": null,
   "metadata": {},
   "outputs": [],
   "source": [
    "# Problem: create random integer numpy array with shape (30, 20) and values between 500 & 15000  [2 Points]\n",
    "np_array = np.random.randint(500,15000,(30,20))\n",
    "\n",
    "np_array"
   ]
  },
  {
   "cell_type": "code",
   "execution_count": null,
   "metadata": {},
   "outputs": [],
   "source": [
    "# Problem: use the array created above an compute following: min, max, mean, median, stadard deviation [2 Points]\n",
    "print(\"min \",np_array.min())\n",
    "print(\"max among rows : \",np_array.max(axis=0))\n",
    "print(\"mean : \", np_array.mean())\n",
    "print(\"std deviation \",np.std(np_array))\n",
    "print(\"median : \",np.median(np_array))"
   ]
  },
  {
   "cell_type": "code",
   "execution_count": null,
   "metadata": {},
   "outputs": [],
   "source": [
    "# Problem: create pandas dataframe with three columns & seven rows. \n",
    "# Name, Age & Rating. Name: Person's name, Age: Person's age, Rating: credit rating out of 10    [3 Points]\n",
    "import pandas as pd\n",
    "df = pd.DataFrame({\n",
    "    'Name': [\"tina\", \"mina\", \"rina\", \"gita\",\"nita\",\"sunita\",\"yashvi\"],\n",
    "    'Age': [19, 15, 16, 17,13,16,19],\n",
    "    'Rating':[10,5,6,7,8,9,3]\n",
    "})\n",
    "df "
   ]
  },
  {
   "cell_type": "code",
   "execution_count": 45,
   "metadata": {},
   "outputs": [
    {
     "name": "stdout",
     "output_type": "stream",
     "text": [
      "     Name  Age  Rating\n",
      "0    tina   19      10\n",
      "6  yashvi   19       3\n"
     ]
    }
   ],
   "source": [
    "# use the abouve dataframe and answer following question\n",
    "# what is average age & rating in dataframe  [1 Points]\n",
    "import pandas as pd\n",
    "df = pd.DataFrame({\n",
    "    'Name': [\"tina\", \"mina\", \"rina\", \"gita\",\"nita\",\"sunita\",\"yashvi\"],\n",
    "    'Age': [19, 15, 16, 17,13,16,19],\n",
    "    'Rating':[10,5,6,7,8,9,3]\n",
    "})\n",
    "mean_df=df['Age'].mean()\n",
    "\n",
    "mean_df\n",
    "df_mean=df['Rating'].mean()\n",
    "df_mean\n",
    "# Give the name for people who has rating more than average [1 Points]\n",
    "df_greater=df[df['Rating']>df['Rating'].mean()]\n",
    "df_name=df_greater['Name']\n",
    "df_name\n",
    "# Give the name for person who is oldest [1 Points]\n",
    "print(df[df.Age == df.Age.max()]) "
   ]
  },
  {
   "cell_type": "code",
   "execution_count": null,
   "metadata": {},
   "outputs": [],
   "source": []
  }
 ],
 "metadata": {
  "kernelspec": {
   "display_name": "Python 3",
   "language": "python",
   "name": "python3"
  },
  "language_info": {
   "codemirror_mode": {
    "name": "ipython",
    "version": 3
   },
   "file_extension": ".py",
   "mimetype": "text/x-python",
   "name": "python",
   "nbconvert_exporter": "python",
   "pygments_lexer": "ipython3",
   "version": "3.7.4"
  }
 },
 "nbformat": 4,
 "nbformat_minor": 4
}
